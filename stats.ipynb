{
 "cells": [
  {
   "cell_type": "code",
   "execution_count": 177,
   "metadata": {},
   "outputs": [],
   "source": [
    "from pathlib import Path\n",
    "from typing import Dict\n",
    "import os\n",
    "import json\n",
    "import numpy as np\n",
    "import pandas as pd"
   ]
  },
  {
   "cell_type": "code",
   "execution_count": 178,
   "metadata": {},
   "outputs": [
    {
     "name": "stdout",
     "output_type": "stream",
     "text": [
      "Majors count 50\n",
      "Compulsory count 1584\n",
      "Elective count 1120\n",
      "Total 2754\n"
     ]
    }
   ],
   "source": [
    "cwd = Path().resolve()\n",
    "result_path = cwd.joinpath('result')\n",
    "\n",
    "majors = os.listdir(result_path)\n",
    "\n",
    "compulstory = set()\n",
    "elective = set()\n",
    "\n",
    "for major in majors:\n",
    "    major_path = result_path.joinpath(major)\n",
    "    for wajib in os.listdir(major_path.joinpath('wajib')):\n",
    "        compulstory.add(wajib)\n",
    "\n",
    "    for pilihan in os.listdir(major_path.joinpath('pilihan')):\n",
    "        elective.add(pilihan)\n",
    "\n",
    "print(f\"Majors count {len(majors)}\")\n",
    "print(f\"Compulsory count {compulstory.__len__()}\")\n",
    "print(f\"Elective count {len(elective)}\")\n",
    "\n",
    "print(f\"Total {len(majors) + len(compulstory) + len(elective)}\")"
   ]
  },
  {
   "cell_type": "code",
   "execution_count": 179,
   "metadata": {},
   "outputs": [
    {
     "name": "stdout",
     "output_type": "stream",
     "text": [
      "SUBJECT KEYWORDS\n"
     ]
    },
    {
     "data": {
      "text/html": [
       "<div>\n",
       "<style scoped>\n",
       "    .dataframe tbody tr th:only-of-type {\n",
       "        vertical-align: middle;\n",
       "    }\n",
       "\n",
       "    .dataframe tbody tr th {\n",
       "        vertical-align: top;\n",
       "    }\n",
       "\n",
       "    .dataframe thead th {\n",
       "        text-align: right;\n",
       "    }\n",
       "</style>\n",
       "<table border=\"1\" class=\"dataframe\">\n",
       "  <thead>\n",
       "    <tr style=\"text-align: right;\">\n",
       "      <th></th>\n",
       "      <th>0</th>\n",
       "    </tr>\n",
       "  </thead>\n",
       "  <tbody>\n",
       "    <tr>\n",
       "      <th>count</th>\n",
       "      <td>2810.000000</td>\n",
       "    </tr>\n",
       "    <tr>\n",
       "      <th>mean</th>\n",
       "      <td>9.204626</td>\n",
       "    </tr>\n",
       "    <tr>\n",
       "      <th>std</th>\n",
       "      <td>6.519608</td>\n",
       "    </tr>\n",
       "    <tr>\n",
       "      <th>min</th>\n",
       "      <td>0.000000</td>\n",
       "    </tr>\n",
       "    <tr>\n",
       "      <th>25%</th>\n",
       "      <td>5.000000</td>\n",
       "    </tr>\n",
       "    <tr>\n",
       "      <th>50%</th>\n",
       "      <td>8.000000</td>\n",
       "    </tr>\n",
       "    <tr>\n",
       "      <th>75%</th>\n",
       "      <td>12.000000</td>\n",
       "    </tr>\n",
       "    <tr>\n",
       "      <th>max</th>\n",
       "      <td>61.000000</td>\n",
       "    </tr>\n",
       "  </tbody>\n",
       "</table>\n",
       "</div>"
      ],
      "text/plain": [
       "                 0\n",
       "count  2810.000000\n",
       "mean      9.204626\n",
       "std       6.519608\n",
       "min       0.000000\n",
       "25%       5.000000\n",
       "50%       8.000000\n",
       "75%      12.000000\n",
       "max      61.000000"
      ]
     },
     "execution_count": 179,
     "metadata": {},
     "output_type": "execute_result"
    }
   ],
   "source": [
    "content = None\n",
    "\n",
    "with open(\"major_subjects_keyword.json\") as r:\n",
    "    content = json.load(r)\n",
    "\n",
    "keywords_length = []\n",
    "extracted_keywords = []\n",
    "subjects = []\n",
    "\n",
    "for major in content:\n",
    "    major_keyword_counter = 0\n",
    "    for subject in major[\"subjects\"]:\n",
    "        for keyword in subject['keywords']:\n",
    "            keywords_length.append(len(keyword))\n",
    "        keywords = len(subject['keywords'])\n",
    "        major_keyword_counter+=keywords\n",
    "        extracted_keywords.append(keywords)\n",
    "\n",
    "    subjects.append(major_keyword_counter)\n",
    "\n",
    "print(\"SUBJECT KEYWORDS\")\n",
    "keywords_pd = pd.DataFrame(np.array(extracted_keywords))\n",
    "keywords_pd.describe()\n",
    "\n",
    "\n",
    "# print(f\"Keywords count {len(extracted_keywords)}\")\n",
    "# print(f\"Subjects (not unique) count {len(subjects)}\")\n",
    "# print(f\"Average keywords per subject\")\n"
   ]
  },
  {
   "cell_type": "code",
   "execution_count": 180,
   "metadata": {},
   "outputs": [
    {
     "data": {
      "text/plain": [
       "0    25865\n",
       "dtype: int64"
      ]
     },
     "execution_count": 180,
     "metadata": {},
     "output_type": "execute_result"
    }
   ],
   "source": [
    "keywords_pd.sum()"
   ]
  },
  {
   "cell_type": "code",
   "execution_count": 181,
   "metadata": {},
   "outputs": [
    {
     "name": "stdout",
     "output_type": "stream",
     "text": [
      "Major keywords\n"
     ]
    },
    {
     "data": {
      "text/html": [
       "<div>\n",
       "<style scoped>\n",
       "    .dataframe tbody tr th:only-of-type {\n",
       "        vertical-align: middle;\n",
       "    }\n",
       "\n",
       "    .dataframe tbody tr th {\n",
       "        vertical-align: top;\n",
       "    }\n",
       "\n",
       "    .dataframe thead th {\n",
       "        text-align: right;\n",
       "    }\n",
       "</style>\n",
       "<table border=\"1\" class=\"dataframe\">\n",
       "  <thead>\n",
       "    <tr style=\"text-align: right;\">\n",
       "      <th></th>\n",
       "      <th>0</th>\n",
       "    </tr>\n",
       "  </thead>\n",
       "  <tbody>\n",
       "    <tr>\n",
       "      <th>count</th>\n",
       "      <td>50.000000</td>\n",
       "    </tr>\n",
       "    <tr>\n",
       "      <th>mean</th>\n",
       "      <td>517.300000</td>\n",
       "    </tr>\n",
       "    <tr>\n",
       "      <th>std</th>\n",
       "      <td>154.671508</td>\n",
       "    </tr>\n",
       "    <tr>\n",
       "      <th>min</th>\n",
       "      <td>226.000000</td>\n",
       "    </tr>\n",
       "    <tr>\n",
       "      <th>25%</th>\n",
       "      <td>427.000000</td>\n",
       "    </tr>\n",
       "    <tr>\n",
       "      <th>50%</th>\n",
       "      <td>506.500000</td>\n",
       "    </tr>\n",
       "    <tr>\n",
       "      <th>75%</th>\n",
       "      <td>600.750000</td>\n",
       "    </tr>\n",
       "    <tr>\n",
       "      <th>max</th>\n",
       "      <td>986.000000</td>\n",
       "    </tr>\n",
       "  </tbody>\n",
       "</table>\n",
       "</div>"
      ],
      "text/plain": [
       "                0\n",
       "count   50.000000\n",
       "mean   517.300000\n",
       "std    154.671508\n",
       "min    226.000000\n",
       "25%    427.000000\n",
       "50%    506.500000\n",
       "75%    600.750000\n",
       "max    986.000000"
      ]
     },
     "execution_count": 181,
     "metadata": {},
     "output_type": "execute_result"
    }
   ],
   "source": [
    "print(\"Major keywords\")\n",
    "majors_pd = pd.DataFrame(np.array(subjects))\n",
    "majors_pd.describe()\n"
   ]
  },
  {
   "cell_type": "code",
   "execution_count": 182,
   "metadata": {},
   "outputs": [
    {
     "data": {
      "text/plain": [
       "0    25865\n",
       "dtype: int64"
      ]
     },
     "execution_count": 182,
     "metadata": {},
     "output_type": "execute_result"
    }
   ],
   "source": [
    "majors_pd.sum()"
   ]
  },
  {
   "cell_type": "code",
   "execution_count": 183,
   "metadata": {},
   "outputs": [
    {
     "name": "stdout",
     "output_type": "stream",
     "text": [
      "13\n"
     ]
    },
    {
     "data": {
      "text/html": [
       "<div>\n",
       "<style scoped>\n",
       "    .dataframe tbody tr th:only-of-type {\n",
       "        vertical-align: middle;\n",
       "    }\n",
       "\n",
       "    .dataframe tbody tr th {\n",
       "        vertical-align: top;\n",
       "    }\n",
       "\n",
       "    .dataframe thead th {\n",
       "        text-align: right;\n",
       "    }\n",
       "</style>\n",
       "<table border=\"1\" class=\"dataframe\">\n",
       "  <thead>\n",
       "    <tr style=\"text-align: right;\">\n",
       "      <th></th>\n",
       "      <th>0</th>\n",
       "    </tr>\n",
       "  </thead>\n",
       "  <tbody>\n",
       "    <tr>\n",
       "      <th>count</th>\n",
       "      <td>25865.000000</td>\n",
       "    </tr>\n",
       "    <tr>\n",
       "      <th>mean</th>\n",
       "      <td>29.879992</td>\n",
       "    </tr>\n",
       "    <tr>\n",
       "      <th>std</th>\n",
       "      <td>24.620447</td>\n",
       "    </tr>\n",
       "    <tr>\n",
       "      <th>min</th>\n",
       "      <td>5.000000</td>\n",
       "    </tr>\n",
       "    <tr>\n",
       "      <th>25%</th>\n",
       "      <td>16.000000</td>\n",
       "    </tr>\n",
       "    <tr>\n",
       "      <th>50%</th>\n",
       "      <td>22.000000</td>\n",
       "    </tr>\n",
       "    <tr>\n",
       "      <th>75%</th>\n",
       "      <td>34.000000</td>\n",
       "    </tr>\n",
       "    <tr>\n",
       "      <th>max</th>\n",
       "      <td>639.000000</td>\n",
       "    </tr>\n",
       "  </tbody>\n",
       "</table>\n",
       "</div>"
      ],
      "text/plain": [
       "                  0\n",
       "count  25865.000000\n",
       "mean      29.879992\n",
       "std       24.620447\n",
       "min        5.000000\n",
       "25%       16.000000\n",
       "50%       22.000000\n",
       "75%       34.000000\n",
       "max      639.000000"
      ]
     },
     "execution_count": 183,
     "metadata": {},
     "output_type": "execute_result"
    }
   ],
   "source": [
    "print(keywords)\n",
    "\n",
    "keywords_length_pd = pd.DataFrame(np.array(keywords_length))\n",
    "keywords_length_pd.describe()"
   ]
  },
  {
   "cell_type": "code",
   "execution_count": 184,
   "metadata": {},
   "outputs": [],
   "source": [
    "weight = []\n",
    "weight_normalized = []\n",
    "\n",
    "with open('weight.txt') as r:\n",
    "    content = r.read().split('\\n')\n",
    "\n",
    "    for line in content:\n",
    "        weight.append(float(line.split(' ')[-1]))\n",
    "\n",
    "with open('weight_normalized.txt') as r:\n",
    "    content = r.read().split('\\n')\n",
    "\n",
    "    for line in content:\n",
    "        weight_normalized.append(float(line.split(' ')[-1]))"
   ]
  },
  {
   "cell_type": "code",
   "execution_count": 185,
   "metadata": {},
   "outputs": [
    {
     "data": {
      "text/html": [
       "<div>\n",
       "<style scoped>\n",
       "    .dataframe tbody tr th:only-of-type {\n",
       "        vertical-align: middle;\n",
       "    }\n",
       "\n",
       "    .dataframe tbody tr th {\n",
       "        vertical-align: top;\n",
       "    }\n",
       "\n",
       "    .dataframe thead th {\n",
       "        text-align: right;\n",
       "    }\n",
       "</style>\n",
       "<table border=\"1\" class=\"dataframe\">\n",
       "  <thead>\n",
       "    <tr style=\"text-align: right;\">\n",
       "      <th></th>\n",
       "      <th>0</th>\n",
       "    </tr>\n",
       "  </thead>\n",
       "  <tbody>\n",
       "    <tr>\n",
       "      <th>count</th>\n",
       "      <td>1225.000000</td>\n",
       "    </tr>\n",
       "    <tr>\n",
       "      <th>mean</th>\n",
       "      <td>0.939700</td>\n",
       "    </tr>\n",
       "    <tr>\n",
       "      <th>std</th>\n",
       "      <td>0.029977</td>\n",
       "    </tr>\n",
       "    <tr>\n",
       "      <th>min</th>\n",
       "      <td>0.801619</td>\n",
       "    </tr>\n",
       "    <tr>\n",
       "      <th>25%</th>\n",
       "      <td>0.922746</td>\n",
       "    </tr>\n",
       "    <tr>\n",
       "      <th>50%</th>\n",
       "      <td>0.943052</td>\n",
       "    </tr>\n",
       "    <tr>\n",
       "      <th>75%</th>\n",
       "      <td>0.961652</td>\n",
       "    </tr>\n",
       "    <tr>\n",
       "      <th>max</th>\n",
       "      <td>0.995614</td>\n",
       "    </tr>\n",
       "  </tbody>\n",
       "</table>\n",
       "</div>"
      ],
      "text/plain": [
       "                 0\n",
       "count  1225.000000\n",
       "mean      0.939700\n",
       "std       0.029977\n",
       "min       0.801619\n",
       "25%       0.922746\n",
       "50%       0.943052\n",
       "75%       0.961652\n",
       "max       0.995614"
      ]
     },
     "execution_count": 185,
     "metadata": {},
     "output_type": "execute_result"
    }
   ],
   "source": [
    "weight_pd = pd.DataFrame(weight)\n",
    "weight_pd.describe()"
   ]
  },
  {
   "cell_type": "code",
   "execution_count": 186,
   "metadata": {},
   "outputs": [
    {
     "data": {
      "text/html": [
       "<div>\n",
       "<style scoped>\n",
       "    .dataframe tbody tr th:only-of-type {\n",
       "        vertical-align: middle;\n",
       "    }\n",
       "\n",
       "    .dataframe tbody tr th {\n",
       "        vertical-align: top;\n",
       "    }\n",
       "\n",
       "    .dataframe thead th {\n",
       "        text-align: right;\n",
       "    }\n",
       "</style>\n",
       "<table border=\"1\" class=\"dataframe\">\n",
       "  <thead>\n",
       "    <tr style=\"text-align: right;\">\n",
       "      <th></th>\n",
       "      <th>0</th>\n",
       "    </tr>\n",
       "  </thead>\n",
       "  <tbody>\n",
       "    <tr>\n",
       "      <th>count</th>\n",
       "      <td>1225.000000</td>\n",
       "    </tr>\n",
       "    <tr>\n",
       "      <th>mean</th>\n",
       "      <td>71.177890</td>\n",
       "    </tr>\n",
       "    <tr>\n",
       "      <th>std</th>\n",
       "      <td>15.452411</td>\n",
       "    </tr>\n",
       "    <tr>\n",
       "      <th>min</th>\n",
       "      <td>0.000000</td>\n",
       "    </tr>\n",
       "    <tr>\n",
       "      <th>25%</th>\n",
       "      <td>62.438108</td>\n",
       "    </tr>\n",
       "    <tr>\n",
       "      <th>50%</th>\n",
       "      <td>72.905751</td>\n",
       "    </tr>\n",
       "    <tr>\n",
       "      <th>75%</th>\n",
       "      <td>82.493678</td>\n",
       "    </tr>\n",
       "    <tr>\n",
       "      <th>max</th>\n",
       "      <td>100.000000</td>\n",
       "    </tr>\n",
       "  </tbody>\n",
       "</table>\n",
       "</div>"
      ],
      "text/plain": [
       "                 0\n",
       "count  1225.000000\n",
       "mean     71.177890\n",
       "std      15.452411\n",
       "min       0.000000\n",
       "25%      62.438108\n",
       "50%      72.905751\n",
       "75%      82.493678\n",
       "max     100.000000"
      ]
     },
     "execution_count": 186,
     "metadata": {},
     "output_type": "execute_result"
    }
   ],
   "source": [
    "weight_normalized_pd = pd.DataFrame(weight_normalized)\n",
    "weight_normalized_pd.describe()"
   ]
  },
  {
   "cell_type": "code",
   "execution_count": 187,
   "metadata": {},
   "outputs": [],
   "source": [
    "reader = open('faculty_major.json')\n",
    "data = json.load(reader)\n",
    "reader.close()\n",
    "\n",
    "majors = {}\n",
    "\n",
    "for each in data:\n",
    "    majs = each[\"majors\"]\n",
    "\n",
    "    for major in majs:\n",
    "        majors[str(major[\"code\"])] = major[\"acronym\"]"
   ]
  },
  {
   "cell_type": "code",
   "execution_count": 188,
   "metadata": {},
   "outputs": [],
   "source": [
    "import networkx as nx\n",
    "from typing import List, Tuple\n",
    "\n",
    "reader = open('weight_normalized.txt')\n",
    "raw = reader.read().split('\\n')\n",
    "reader.close()\n",
    "\n",
    "data: List[Tuple[str,str,float]] = []\n",
    "\n",
    "numbers = []\n",
    "\n",
    "nodes = set()\n",
    "\n",
    "for each in raw:\n",
    "    splitted = each.split(' ')\n",
    "    node_a = majors[splitted[0].split(\"-\")[-1]]\n",
    "    node_b = majors[splitted[1].split('-')[-1]]\n",
    "    nodes.add(node_a)\n",
    "    nodes.add(node_b)\n",
    "    number = float(splitted[2])# rescale to 1-10\n",
    "    numbers.append(number)\n",
    "    data.append((node_a, node_b, number))\n",
    "\n",
    "nodes = list(nodes)"
   ]
  },
  {
   "cell_type": "code",
   "execution_count": 189,
   "metadata": {},
   "outputs": [
    {
     "name": "stdout",
     "output_type": "stream",
     "text": [
      "71.17789048751627\n"
     ]
    },
    {
     "name": "stderr",
     "output_type": "stream",
     "text": [
      "/tmp/ipykernel_1050/852832756.py:38: FutureWarning: In a future version of pandas all arguments of DataFrame.drop except for the argument 'labels' will be keyword-only.\n",
      "  degress_pd = degress_pd.drop('sortval', 1)\n"
     ]
    },
    {
     "data": {
      "text/html": [
       "<div>\n",
       "<style scoped>\n",
       "    .dataframe tbody tr th:only-of-type {\n",
       "        vertical-align: middle;\n",
       "    }\n",
       "\n",
       "    .dataframe tbody tr th {\n",
       "        vertical-align: top;\n",
       "    }\n",
       "\n",
       "    .dataframe thead th {\n",
       "        text-align: right;\n",
       "    }\n",
       "</style>\n",
       "<table border=\"1\" class=\"dataframe\">\n",
       "  <thead>\n",
       "    <tr style=\"text-align: right;\">\n",
       "      <th></th>\n",
       "      <th>&lt;mean degree</th>\n",
       "      <th>&gt;mean degree</th>\n",
       "      <th>&gt;85% degree</th>\n",
       "      <th>&gt;95% degree</th>\n",
       "      <th>&gt;98% degree</th>\n",
       "    </tr>\n",
       "  </thead>\n",
       "  <tbody>\n",
       "    <tr>\n",
       "      <th>count</th>\n",
       "      <td>50.000000</td>\n",
       "      <td>50.000000</td>\n",
       "      <td>50.000000</td>\n",
       "      <td>50.000000</td>\n",
       "      <td>50.000000</td>\n",
       "    </tr>\n",
       "    <tr>\n",
       "      <th>mean</th>\n",
       "      <td>21.560000</td>\n",
       "      <td>20.080000</td>\n",
       "      <td>4.880000</td>\n",
       "      <td>1.480000</td>\n",
       "      <td>1.000000</td>\n",
       "    </tr>\n",
       "    <tr>\n",
       "      <th>std</th>\n",
       "      <td>10.339463</td>\n",
       "      <td>6.974706</td>\n",
       "      <td>3.414495</td>\n",
       "      <td>1.403203</td>\n",
       "      <td>1.228904</td>\n",
       "    </tr>\n",
       "    <tr>\n",
       "      <th>min</th>\n",
       "      <td>6.000000</td>\n",
       "      <td>3.000000</td>\n",
       "      <td>0.000000</td>\n",
       "      <td>0.000000</td>\n",
       "      <td>0.000000</td>\n",
       "    </tr>\n",
       "    <tr>\n",
       "      <th>25%</th>\n",
       "      <td>13.250000</td>\n",
       "      <td>19.000000</td>\n",
       "      <td>2.250000</td>\n",
       "      <td>0.250000</td>\n",
       "      <td>0.000000</td>\n",
       "    </tr>\n",
       "    <tr>\n",
       "      <th>50%</th>\n",
       "      <td>20.000000</td>\n",
       "      <td>21.500000</td>\n",
       "      <td>4.000000</td>\n",
       "      <td>1.000000</td>\n",
       "      <td>1.000000</td>\n",
       "    </tr>\n",
       "    <tr>\n",
       "      <th>75%</th>\n",
       "      <td>25.750000</td>\n",
       "      <td>24.000000</td>\n",
       "      <td>6.750000</td>\n",
       "      <td>2.000000</td>\n",
       "      <td>1.000000</td>\n",
       "    </tr>\n",
       "    <tr>\n",
       "      <th>max</th>\n",
       "      <td>45.000000</td>\n",
       "      <td>30.000000</td>\n",
       "      <td>14.000000</td>\n",
       "      <td>6.000000</td>\n",
       "      <td>6.000000</td>\n",
       "    </tr>\n",
       "  </tbody>\n",
       "</table>\n",
       "</div>"
      ],
      "text/plain": [
       "       <mean degree  >mean degree  >85% degree  >95% degree  >98% degree\n",
       "count     50.000000     50.000000    50.000000    50.000000    50.000000\n",
       "mean      21.560000     20.080000     4.880000     1.480000     1.000000\n",
       "std       10.339463      6.974706     3.414495     1.403203     1.228904\n",
       "min        6.000000      3.000000     0.000000     0.000000     0.000000\n",
       "25%       13.250000     19.000000     2.250000     0.250000     0.000000\n",
       "50%       20.000000     21.500000     4.000000     1.000000     1.000000\n",
       "75%       25.750000     24.000000     6.750000     2.000000     1.000000\n",
       "max       45.000000     30.000000    14.000000     6.000000     6.000000"
      ]
     },
     "execution_count": 189,
     "metadata": {},
     "output_type": "execute_result"
    }
   ],
   "source": [
    "mean = np.array(numbers).mean()\n",
    "cutoff = np.quantile(numbers, 0.85)\n",
    "high_cutoff = np.quantile(numbers, 0.98)\n",
    "mid_cutoff = np.quantile(numbers, 0.95)\n",
    "\n",
    "degrees: Dict[str, Dict[str, float]] = {}\n",
    "\n",
    "for node_a, node_b, weight in data:\n",
    "    if node_a not in degrees:\n",
    "        degrees[node_a] = {\"below_mean\": 0, \"above_mean\": 0, \"above_cutoff\" : 0, \"above_mid\": 0, \"above_high\":0}\n",
    "\n",
    "    if node_b not in degrees:\n",
    "        degrees[node_b] = {\"below_mean\": 0, \"above_mean\": 0, \"above_cutoff\" : 0, \"above_mid\": 0, \"above_high\":0}\n",
    "\n",
    "    if weight < mean:\n",
    "        key = \"below_mean\"\n",
    "    elif weight >= mean and weight < cutoff:\n",
    "        key = \"above_mean\"\n",
    "    elif weight >= cutoff and weight < mid_cutoff:\n",
    "        key =\"above_cutoff\"\n",
    "    elif weight >= mid_cutoff and weight < high_cutoff:\n",
    "        key=\"above_mid\"\n",
    "    else:\n",
    "        key=\"above_high\"\n",
    "\n",
    "    degrees[node_a][key] += 1\n",
    "    degrees[node_b][key] += 1\n",
    "\n",
    "print(mean)\n",
    "degrees_as_list = []\n",
    "\n",
    "for k,v in degrees.items():\n",
    "    degrees_as_list.append([k, v[\"below_mean\"], v[\"above_mean\"], v[\"above_cutoff\"], v[\"above_mid\"], v[\"above_high\"]])\n",
    "\n",
    "degress_pd = pd.DataFrame(degrees_as_list, columns=[\"vertex\", \"<mean degree\", \">mean degree\", \">85% degree\", \">95% degree\", \">98% degree\"])\n",
    "degress_pd['sortval'] = degress_pd[\">98% degree\"]*5 + degress_pd['>95% degree']*4 + degress_pd[\">85% degree\"]*2 + degress_pd['>mean degree']\n",
    "degress_pd = degress_pd.sort_values(by=['sortval'], ascending=False)\n",
    "degress_pd = degress_pd.drop('sortval', 1)\n",
    "degress_pd.describe()"
   ]
  },
  {
   "cell_type": "code",
   "execution_count": 190,
   "metadata": {},
   "outputs": [
    {
     "name": "stdout",
     "output_type": "stream",
     "text": [
      "vertex  <mean degree  >mean degree  >85% degree  >95% degree  >98% degree\n",
      "    TF            11            20           11            1            6\n",
      "    BE             6            27           10            4            2\n",
      "    AE             8            22           14            3            2\n",
      "    MS            13            21            7            5            3\n",
      "    TK            11            21           12            2            3\n",
      "    TB            11            24            7            6            1\n",
      "    EB            10            25           10            2            2\n",
      "    MR             8            29            9            2            1\n",
      "    TI             8            29            9            2            1\n",
      "    EL            19            18            6            2            4\n",
      "    FI            15            21            8            4            1\n",
      "    KL            10            27           10            1            1\n",
      "    IF            19            19            6            4            1\n",
      "    TA            10            29            9            1            0\n",
      "    PP            12            30            4            3            0\n",
      "    GD            12            27            9            1            0\n",
      "    SI            14            27            6            0            2\n",
      "    TM            17            23            6            3            0\n",
      "    EP            19            23            4            0            3\n",
      "    FA            17            25            4            2            1\n",
      "    MG            20            22            3            3            1\n",
      "    SA            20            21            5            1            2\n",
      "    TL            19            24            3            1            2\n",
      "    BM            21            22            3            1            2\n",
      "    AK            15            28            5            1            0\n",
      "    MT            21            21            5            2            0\n",
      "    ET            26            14            6            2            1\n",
      "    TG            21            21            5            2            0\n",
      "    BI            21            23            3            1            1\n",
      "    BA            20            22            6            1            0\n",
      "    II            25            19            2            2            1\n",
      "    KI            20            23            6            0            0\n",
      "    AS            23            22            2            2            0\n",
      "    OS            22            23            3            1            0\n",
      "    ME            20            26            3            0            0\n",
      "    IL            28            17            2            1            1\n",
      "    PG            25            20            3            1            0\n",
      "    DP            30            14            3            1            1\n",
      "    AR            25            21            3            0            0\n",
      "    MA            27            20            1            1            0\n",
      "    GL            25            23            1            0            0\n",
      "    BW            29            19            0            1            0\n",
      "    DI            38             7            3            0            1\n",
      "    FK            39             8            1            0            1\n",
      "    PL            37            10            2            0            0\n",
      "    MB            41             6            1            0            1\n",
      "    MK            40             8            0            0            1\n",
      "    DK            41             6            1            1            0\n",
      "    KR            44             3            2            0            0\n",
      "    SR            45             4            0            0            0\n"
     ]
    }
   ],
   "source": [
    "for line in degress_pd.to_string(index=False).split('\\n'):\n",
    "    print(line)"
   ]
  },
  {
   "cell_type": "code",
   "execution_count": 191,
   "metadata": {},
   "outputs": [
    {
     "name": "stderr",
     "output_type": "stream",
     "text": [
      "/tmp/ipykernel_1050/4043584113.py:13: FutureWarning: adjacency_matrix will return a scipy.sparse array instead of a matrix in Networkx 3.0.\n",
      "  mat = nx.adjacency_matrix(G)\n"
     ]
    },
    {
     "data": {
      "text/plain": [
       "matrix([[ 0.  , 72.3 , 68.03, 55.99, 84.89],\n",
       "        [72.3 ,  0.  , 72.46, 72.45, 75.06],\n",
       "        [68.03, 72.46,  0.  , 56.85, 64.19],\n",
       "        [55.99, 72.45, 56.85,  0.  , 58.04],\n",
       "        [84.89, 75.06, 64.19, 58.04,  0.  ]])"
      ]
     },
     "execution_count": 191,
     "metadata": {},
     "output_type": "execute_result"
    }
   ],
   "source": [
    "G = nx.Graph()\n",
    "\n",
    "selected_nodes = list(nodes)[:5]\n",
    "\n",
    "for node in selected_nodes:\n",
    "    G.add_node(node)\n",
    "\n",
    "for edge in data:\n",
    "    node_a, node_b, weight = edge\n",
    "    if node_a in selected_nodes and node_b in selected_nodes:\n",
    "        G.add_edge(node_a, node_b, weight=weight)\n",
    "\n",
    "mat = nx.adjacency_matrix(G)\n",
    "np.set_printoptions(precision=2, threshold=np.inf)\n",
    "mat.todense()\n",
    "# print(mat.shape)"
   ]
  },
  {
   "cell_type": "code",
   "execution_count": 192,
   "metadata": {},
   "outputs": [
    {
     "name": "stdout",
     "output_type": "stream",
     "text": [
      "['SI', 'AK', 'PL', 'FK', 'ME']\n"
     ]
    }
   ],
   "source": [
    "print(list(G.nodes))"
   ]
  }
 ],
 "metadata": {
  "kernelspec": {
   "display_name": "Python 3.10.6 64-bit",
   "language": "python",
   "name": "python3"
  },
  "language_info": {
   "codemirror_mode": {
    "name": "ipython",
    "version": 3
   },
   "file_extension": ".py",
   "mimetype": "text/x-python",
   "name": "python",
   "nbconvert_exporter": "python",
   "pygments_lexer": "ipython3",
   "version": "3.10.6"
  },
  "orig_nbformat": 4,
  "vscode": {
   "interpreter": {
    "hash": "e7370f93d1d0cde622a1f8e1c04877d8463912d04d973331ad4851f04de6915a"
   }
  }
 },
 "nbformat": 4,
 "nbformat_minor": 2
}
